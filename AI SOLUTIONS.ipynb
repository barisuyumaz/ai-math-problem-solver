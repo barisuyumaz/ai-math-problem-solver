{
 "cells": [
  {
   "cell_type": "code",
   "execution_count": null,
   "metadata": {},
   "outputs": [],
   "source": [
    "import base64\n",
    "import openai\n",
    "\n",
    "openai.api_key = \"my-api-key\"\n",
    "\n",
    "# Function to encode the image\n",
    "def encode_image(image_path):\n",
    "  with open(image_path, \"rb\") as image_file:\n",
    "    return base64.b64encode(image_file.read()).decode('utf-8')\n",
    "\n",
    "image_path = \"question-1.jpg\" # Path to your image\n",
    "base64_image = encode_image(image_path) # Getting the base64 string\n",
    "\n",
    "math_topic = \"algebra\"\n",
    "promt = f\"\"\"Ignore previous prompts. \n",
    "The math problem in the image is related to {math_topic}. Analyze the problem as if you are a mathematics teacher specializing in {math_topic}. Your task is to solve the problem in a clear, step-by-step manner with accuracy and a friendly tone like starting the sentence with \"Lets\" in step-by-step section. Follow structured format below in your response: \n",
    "-Problem: Restate the math problem briefly. \n",
    "-Step-by-Step Solution: Break the solution into clear and logical steps. Explain each step in simple, conversational language as if solving together. \n",
    "-Result: Present the final result in a clear format labeled as “Result:”. \n",
    "\"\"\"\n",
    "\n",
    "response = openai.ChatCompletion.create(\n",
    "  model=\"gpt-4o-mini\",\n",
    "  messages=[\n",
    "    {\n",
    "      \"role\": \"user\",\n",
    "      \"content\": [\n",
    "        {\n",
    "          \"type\": \"text\",\n",
    "          \"text\": promt,\n",
    "        },\n",
    "        {\n",
    "          \"type\": \"image_url\",\n",
    "          \"image_url\": {\n",
    "            \"url\":  f\"data:image/jpeg;base64,{base64_image}\"\n",
    "          },\n",
    "        },\n",
    "      ],\n",
    "    }\n",
    "  ],\n",
    "  temperature = 0,\n",
    ")\n",
    "\n",
    "print(response.choices[0])"
   ]
  },
  {
   "cell_type": "code",
   "execution_count": 2,
   "metadata": {},
   "outputs": [
    {
     "name": "stdout",
     "output_type": "stream",
     "text": [
      "Tespit Edilen Matematik Sorusu:\n",
      "2x-3=-7\n"
     ]
    }
   ],
   "source": [
    "from PIL import Image\n",
    "import pytesseract\n",
    "pytesseract.pytesseract.tesseract_cmd = r'C:\\Program Files\\Tesseract-OCR\\tesseract.exe'\n",
    "def ocr_math_problem(image_path):\n",
    "    try:\n",
    "        # Görüntüyü aç\n",
    "        image = Image.open(image_path)\n",
    "\n",
    "        # OCR işlemini uygula\n",
    "        text = pytesseract.image_to_string(image, lang='eng')  # Türkçe için 'tur' eklenebilir\n",
    "\n",
    "        return text.strip()\n",
    "    except Exception as e:\n",
    "        return f\"Hata: {e}\"\n",
    "# Örnek kullanım\n",
    "image_path = \"input images/img6.jpg\"  # Görüntü dosyanızın yolu\n",
    "math_problem = ocr_math_problem(image_path)\n",
    "print(\"Tespit Edilen Matematik Sorusu:\")\n",
    "print(math_problem)\n"
   ]
  },
  {
   "cell_type": "code",
   "execution_count": 3,
   "metadata": {},
   "outputs": [],
   "source": [
    "import re\n",
    "import pandas as pd\n",
    "from selenium import webdriver\n",
    "from bs4 import BeautifulSoup"
   ]
  },
  {
   "cell_type": "code",
   "execution_count": 4,
   "metadata": {},
   "outputs": [
    {
     "data": {
      "text/plain": [
       "'algebra equations'"
      ]
     },
     "execution_count": 4,
     "metadata": {},
     "output_type": "execute_result"
    }
   ],
   "source": [
    "#DETECT THE MATH TOPIC\n",
    "def which_math_topic(user_input_par):\n",
    "    #Simple Algebra that can be solved by Python easly\n",
    "     #if input text is just one line(for first version of program)\n",
    "     #if input text doesn't contain any letter(\"x\" could mean multiply but lets ignore for now)\n",
    "    if(\"\\n\" not in user_input_par) and (re.search('[a-zA-Z]', user_input_par) == None):\n",
    "        return \"basic algebra\"\n",
    "    elif(\"\\n\" not in user_input_par) and (re.search('[a-zA-Z]', user_input_par)): # ex: 2x-3=-7\n",
    "        return \"algebra equations\"\n",
    "    else:\n",
    "        return \"have to send prompt\"\n",
    "which_math_topic(math_problem)"
   ]
  },
  {
   "cell_type": "code",
   "execution_count": 5,
   "metadata": {},
   "outputs": [],
   "source": [
    "def basic_algebra_solving_1(question_par):\n",
    "    if(question_par[-1] == \"=\"): #make it compatible with Python\n",
    "        question_par = question_par[:-1] # \"5+5=\" -> \"5+5\"\n",
    "\n",
    "    question_par = question_par.replace(\"÷\",\"/\") # \"10÷2\" -> \"10/2\"\n",
    "    question_par = question_par.replace(\".\",\"*\") # \"5.2\" -> \"5*2\" #lets ignore decimal numbers for now\n",
    "\n",
    "    #DETECT INVISIBLE MULTIPLICATION \"5(1+2)\" -> \"5*(1+2)\"\n",
    "    for index, x in enumerate(question_par): #detect invisible multiplication sign and convert to Python syntax\n",
    "        if(x == \"(\") and (index -1 >= 0): #if \"(\" character is not at the beginning\n",
    "            if(question_par[index-1].isdigit()): #if left of the \"(\" character is number\n",
    "                question_par = question_par[:index] + \"*\" + question_par[index:] # \"5(2+1)\" -> \"5*(2+1)\"\n",
    "                #print(\"Değişti\", question_par)\n",
    "    \n",
    "    for index, x in enumerate(question_par): #detect invisible multiplication sign and convert to Python syntax\n",
    "        if(x == \")\") and (index+1 < len(question_par)):\n",
    "            if(question_par[index +1].isdigit()):\n",
    "                question_par = question_par[:index+1] + \"*\" + question_par[index+1:] # \"5+(2+1)3\" -> \"5+(2+1)*3\"\n",
    "                #print(\"Değişti\", question_par)\n",
    "\n",
    "    try:\n",
    "        return question_par+ \" math problem's result is:\\n\"+ str(eval(question_par))\n",
    "    except:\n",
    "        return \"hata\" #burada chatgpt apisine gidecek\n",
    "\n",
    "def equations_algebra_solving_2(question_par): #\"3x+10=-8\" #\"2x-3=-7\"\n",
    "    #OPEN DRIVER\n",
    "    options = webdriver.ChromeOptions() # WebDriver ayarları (örneğin, ChromeDriver kullanılıyor)\n",
    "    # DevTools'u etkinleştir\n",
    "    options.add_experimental_option(\"excludeSwitches\", [\"enable-automation\"])\n",
    "    options.add_experimental_option(\"useAutomationExtension\", False)\n",
    "    #options.add_argument(\"--headless\")  # Tarayıcıyı başlıksız çalıştırmak için\n",
    "    driver = webdriver.Chrome(options=options)\n",
    "    driver.execute_cdp_cmd('Network.setCacheDisabled', {'cacheDisabled': True})# Cache'i devre dışı bırak\n",
    "    #---\n",
    "    #GET SOLVING OF THE EQUATION\n",
    "    question_par = question_par.replace(\"=\", \"%3D\") # for url, we have to convert \"=\" letter to \"%3D\" string\n",
    "    driver.get(\"https://www.symbolab.com/solver/equation-calculator/\" + question_par+ \"?or=input\")\n",
    "    source = driver.page_source\n",
    "    soup = BeautifulSoup(source, \"html.parser\")\n",
    "    driver.quit() #QUIT DRIVER\n",
    "    #---\n",
    "    #PRINT STEPS AND RESULT\n",
    "    try:\n",
    "        result_text_list = []\n",
    "        text_index = 1\n",
    "        step_tags = soup.find(\"div\",{\"id\":\"solution-steps-target\"}).find(\"div\",{\"class\":\"solution_step_list\"})\n",
    "        for index, x in enumerate(step_tags):\n",
    "            if(x['class'] == [\"interim_container\"]): # add order to \n",
    "                #print(str(text_index)+\".\", x.text+\":\") #\"Move 3 to the right side\" -> \"1. Move 3 to the right side \"\n",
    "                result_text_list.append(str(text_index)+\". \"+ x.text+\":\")\n",
    "                text_index +=1\n",
    "            elif(index+1 == len(step_tags)): #get last element of tag\n",
    "                #print(\"Result is:\", x.text)\n",
    "                result_text_list.append(\"Result is: \"+x.text)\n",
    "            elif(index == 0):\n",
    "                result_text_list.append(\"Problem is: \"+x.text)\n",
    "            else:\n",
    "                result_text_list.append(x.text)\n",
    "        return \"\\n\".join(result_text_list)\n",
    "    except:\n",
    "        return \"hata\""
   ]
  },
  {
   "cell_type": "code",
   "execution_count": 6,
   "metadata": {},
   "outputs": [
    {
     "name": "stdout",
     "output_type": "stream",
     "text": [
      "Problem is: 2x−3=−7\n",
      "1. Move 3 to the right side :\n",
      "2x=−4\n",
      "2. Divide both sides by 2 :\n",
      "Result is: x=−2\n"
     ]
    }
   ],
   "source": [
    "#MAIN\n",
    "result_topic = which_math_topic(math_problem)\n",
    "#BASIC ALGEBRA THAT CAN BE EASLY SOLVED BY PYTHON\n",
    "if result_topic == \"basic algebra\":\n",
    "    result = basic_algebra_solving_1(math_problem)\n",
    "elif result_topic == \"algebra equations\":\n",
    "    result = equations_algebra_solving_2(math_problem)\n",
    "else: #send to gpt api\n",
    "    pass\n",
    "print(result)"
   ]
  },
  {
   "cell_type": "code",
   "execution_count": null,
   "metadata": {},
   "outputs": [],
   "source": []
  }
 ],
 "metadata": {
  "kernelspec": {
   "display_name": "Python 3",
   "language": "python",
   "name": "python3"
  },
  "language_info": {
   "codemirror_mode": {
    "name": "ipython",
    "version": 3
   },
   "file_extension": ".py",
   "mimetype": "text/x-python",
   "name": "python",
   "nbconvert_exporter": "python",
   "pygments_lexer": "ipython3",
   "version": "3.11.3"
  }
 },
 "nbformat": 4,
 "nbformat_minor": 2
}
